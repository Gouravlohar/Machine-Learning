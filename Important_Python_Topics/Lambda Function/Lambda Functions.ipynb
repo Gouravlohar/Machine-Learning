{
 "cells": [
  {
   "cell_type": "markdown",
   "id": "90eca720",
   "metadata": {},
   "source": [
    "# Lambda Functions in Python"
   ]
  },
  {
   "cell_type": "markdown",
   "id": "e92acb0b",
   "metadata": {},
   "source": [
    "### Syntax of Lambda Function\n",
    "Lambda function is a small anonymous function that can have any number of parameters but can only have one expression. Lambda functions are defined using the lambda keyword. The general syntax for a lambda function is:\n",
    "`lambda arguments: expression`"
   ]
  },
  {
   "cell_type": "code",
   "execution_count": 2,
   "id": "4f7a144a",
   "metadata": {},
   "outputs": [
    {
     "name": "stdout",
     "output_type": "stream",
     "text": [
      "25\n"
     ]
    }
   ],
   "source": [
    "#lambda function for squaring a number\n",
    "x=lambda x:x**2\n",
    "print(x(5))"
   ]
  },
  {
   "cell_type": "code",
   "execution_count": 3,
   "id": "2b79307e",
   "metadata": {},
   "outputs": [
    {
     "data": {
      "text/plain": [
       "6"
      ]
     },
     "execution_count": 3,
     "metadata": {},
     "output_type": "execute_result"
    }
   ],
   "source": [
    "#lambda function for adding a number\n",
    "a=lambda x,y:x+y\n",
    "a(5,1)"
   ]
  },
  {
   "cell_type": "markdown",
   "id": "7d114e3d",
   "metadata": {},
   "source": [
    "### How it is Different from Normal Function\n",
    "- **Return**: Lambda functions automatically return the result of the expression. In contrast, normal functions require an explicit `return` statement to return a value.\n",
    "- **Anonymous**: Lambda functions are anonymous, meaning they don't require a name. They are often used where a small function is needed for a short period of time and there is no need to define a separate function using the `def`keyword.\n",
    "- **Single Expression**: Lambda functions can only contain a single expression. Normal functions can contain multiple statements and have a more complex structure.\n",
    "\n",
    "### Why We Use Lambda Function\n",
    "**Functional Programming**: Lambda functions are particularly useful in functional programming paradigms, where functions are treated as first-class citizens. They can be passed as arguments to higher-order functions (functions that take other functions as arguments) such as `map()`, `filter()`, and `sorted()`. Using lambda functions in combination with these functions allows for a more functional style of programming, which can lead to more elegant and expressive code."
   ]
  },
  {
   "cell_type": "code",
   "execution_count": 4,
   "id": "8d1b5dd8",
   "metadata": {},
   "outputs": [
    {
     "name": "stdout",
     "output_type": "stream",
     "text": [
      "Even\n",
      "Odd\n"
     ]
    }
   ],
   "source": [
    "#Using Conditional Statements in Lambda Function\n",
    "b=lambda x:\"Even\"if x%2==0 else \"Odd\"\n",
    "print(b(6))\n",
    "print(b(1))"
   ]
  },
  {
   "cell_type": "markdown",
   "id": "76de3a28",
   "metadata": {},
   "source": [
    "## Higher Order Function\n",
    "Higher-order functions are functions that operate on other functions by either taking them as arguments, returning them as results, or both. In Python, functions are first-class citizens, meaning they can be passed around and manipulated just like any other object.\n",
    "\n",
    "Here are a few examples of higher-order functions in Python:\n",
    "\n",
    "\n",
    "\n",
    "\n",
    "\n",
    "\n",
    "\n"
   ]
  },
  {
   "cell_type": "markdown",
   "id": "bbf547d3",
   "metadata": {},
   "source": [
    "### 1.Map Function\n",
    "**map():** The `map()` function takes a function and an iterable as arguments and applies the function to each element of the iterable, returning an iterator over the results.\n",
    "```python\n",
    "numbers = [1, 2, 3, 4, 5]\n",
    "squared_numbers = map(lambda x: x**2, numbers)\n",
    "print(list(squared_numbers))  # Output: [1, 4, 9, 16, 25]\n"
   ]
  },
  {
   "cell_type": "code",
   "execution_count": 7,
   "id": "9e24d543",
   "metadata": {},
   "outputs": [
    {
     "data": {
      "text/plain": [
       "<map at 0x1d939d1ccd0>"
      ]
     },
     "execution_count": 7,
     "metadata": {},
     "output_type": "execute_result"
    }
   ],
   "source": [
    "L=[1,2,3,4,5,6]\n",
    "map(lambda x:x*2,L)\n",
    "#it will make a object "
   ]
  },
  {
   "cell_type": "code",
   "execution_count": 8,
   "id": "f00d51c7",
   "metadata": {},
   "outputs": [
    {
     "data": {
      "text/plain": [
       "[2, 4, 6, 8, 10, 12]"
      ]
     },
     "execution_count": 8,
     "metadata": {},
     "output_type": "execute_result"
    }
   ],
   "source": [
    "#to see the oputput we have to pass the map function in list itself\n",
    "list(map(lambda x:x*2,L))"
   ]
  },
  {
   "cell_type": "code",
   "execution_count": 10,
   "id": "5c35fce6",
   "metadata": {},
   "outputs": [
    {
     "data": {
      "text/plain": [
       "[False, True, False, True, False, True]"
      ]
     },
     "execution_count": 10,
     "metadata": {},
     "output_type": "execute_result"
    }
   ],
   "source": [
    "#to find Even or odd\n",
    "list(map(lambda x:x%2==0,L))"
   ]
  },
  {
   "cell_type": "code",
   "execution_count": 12,
   "id": "4ff1ffb6",
   "metadata": {},
   "outputs": [
    {
     "data": {
      "text/plain": [
       "['Odd', 'Even', 'Odd', 'Even', 'Odd', 'Even']"
      ]
     },
     "execution_count": 12,
     "metadata": {},
     "output_type": "execute_result"
    }
   ],
   "source": [
    "#to find Even Odd with conditional \n",
    "list(map(lambda x:\"Even\"if x%2==0 else \"Odd\",L))"
   ]
  },
  {
   "cell_type": "code",
   "execution_count": 13,
   "id": "025a2ea3",
   "metadata": {},
   "outputs": [
    {
     "data": {
      "text/plain": [
       "['Alice', 'Bob', 'Charlie']"
      ]
     },
     "execution_count": 13,
     "metadata": {},
     "output_type": "execute_result"
    }
   ],
   "source": [
    "#We can use map function to extract a single index form list\n",
    "students = [\n",
    "    {\"name\": \"Alice\", \"age\": 20, \"grade\": \"A\"},\n",
    "    {\"name\": \"Bob\", \"age\": 21, \"grade\": \"B\"},\n",
    "    {\"name\": \"Charlie\", \"age\": 19, \"grade\": \"C\"}\n",
    "]\n",
    "list(map(lambda d:d['name'],students))"
   ]
  },
  {
   "cell_type": "markdown",
   "id": "2386aa11",
   "metadata": {},
   "source": [
    "### 2. Filter Function\n",
    "**filter():** The `filter()` function takes a function and an iterable as arguments and returns an iterator over the elements of the iterable for which the function returns `True`.\n",
    "```python\n",
    "numbers = [1, 2, 3, 4, 5]\n",
    "even_numbers = filter(lambda x: x % 2 == 0, numbers)\n",
    "print(list(even_numbers))  # Output: [2, 4]\n",
    "```\n",
    "\n",
    "    "
   ]
  },
  {
   "cell_type": "code",
   "execution_count": 14,
   "id": "eb59d476",
   "metadata": {},
   "outputs": [
    {
     "data": {
      "text/plain": [
       "[1, 2, 3, 4, 5, 6]"
      ]
     },
     "execution_count": 14,
     "metadata": {},
     "output_type": "execute_result"
    }
   ],
   "source": [
    "L"
   ]
  },
  {
   "cell_type": "code",
   "execution_count": 16,
   "id": "d79aa397",
   "metadata": {},
   "outputs": [
    {
     "data": {
      "text/plain": [
       "[5, 6]"
      ]
     },
     "execution_count": 16,
     "metadata": {},
     "output_type": "execute_result"
    }
   ],
   "source": [
    "list(filter(lambda x:x>4,L))"
   ]
  },
  {
   "cell_type": "code",
   "execution_count": 19,
   "id": "6b01542f",
   "metadata": {},
   "outputs": [
    {
     "data": {
      "text/plain": [
       "['Apple', 'Orange', 'Pineapple']"
      ]
     },
     "execution_count": 19,
     "metadata": {},
     "output_type": "execute_result"
    }
   ],
   "source": [
    "#Find the fruit name which contain letter 'e'\n",
    "fruit=['Apple','Mango','Orange','Pineapple']\n",
    "list(filter(lambda x:'e'in x,fruit))"
   ]
  },
  {
   "cell_type": "markdown",
   "id": "73c6cf2f",
   "metadata": {},
   "source": [
    "### 3. Sorted Function\n",
    "**sorted():** The `sorted()` function takes an iterable and an optional `key` function as arguments and returns a new list containing the sorted elements of the iterable.\n",
    "```python\n",
    "    words = [\"banana\", \"apple\", \"cherry\", \"orange\"]\n",
    "    sorted_words = sorted(words, key=lambda x: len(x))\n",
    "    print(sorted_words)  # Output: ['apple', 'banana', 'cherry', 'orange']\n",
    "```\n",
    "    "
   ]
  },
  {
   "cell_type": "code",
   "execution_count": 34,
   "id": "21d4c7b0",
   "metadata": {},
   "outputs": [
    {
     "data": {
      "text/plain": [
       "['apple', 'banana', 'orange', 'kiwi', 'grape']"
      ]
     },
     "execution_count": 34,
     "metadata": {},
     "output_type": "execute_result"
    }
   ],
   "source": [
    "words = [\"apple\", \"banana\", \"orange\", \"kiwi\", \"grape\"]\n",
    "words"
   ]
  },
  {
   "cell_type": "code",
   "execution_count": 35,
   "id": "1decc76f",
   "metadata": {},
   "outputs": [
    {
     "data": {
      "text/plain": [
       "['kiwi', 'apple', 'grape', 'banana', 'orange']"
      ]
     },
     "execution_count": 35,
     "metadata": {},
     "output_type": "execute_result"
    }
   ],
   "source": [
    "sorted(words, key=len)"
   ]
  },
  {
   "cell_type": "markdown",
   "id": "c054752e",
   "metadata": {},
   "source": [
    "### 4. Reduce Function\n",
    "**reduce():** The `reduce()` function, which used to be built-in in Python 2 but moved to the `functools` module in Python 3, applies a function of two arguments cumulatively to the items of an iterable, from left to right, so as to reduce the iterable to a single value.\n",
    "```python\n",
    "    from functools import reduce\n",
    "    numbers = [1, 2, 3, 4, 5]\n",
    "    sum_of_numbers = reduce(lambda x, y: x + y, numbers)\n",
    "    print(sum_of_numbers)  # Output: 15\n",
    "```"
   ]
  },
  {
   "cell_type": "code",
   "execution_count": 21,
   "id": "7d567db1",
   "metadata": {},
   "outputs": [
    {
     "data": {
      "text/plain": [
       "[1, 2, 3, 4, 5, 6]"
      ]
     },
     "execution_count": 21,
     "metadata": {},
     "output_type": "execute_result"
    }
   ],
   "source": [
    "L"
   ]
  },
  {
   "cell_type": "code",
   "execution_count": 27,
   "id": "a15e2940",
   "metadata": {},
   "outputs": [
    {
     "data": {
      "text/plain": [
       "21"
      ]
     },
     "execution_count": 27,
     "metadata": {},
     "output_type": "execute_result"
    }
   ],
   "source": [
    "#Use reduce function in a list to add elements\n",
    "import functools as ft\n",
    "ft.reduce(lambda x,y:x+y,L)"
   ]
  },
  {
   "cell_type": "code",
   "execution_count": 30,
   "id": "48b694f1",
   "metadata": {},
   "outputs": [
    {
     "data": {
      "text/plain": [
       "[15, 25, 45, 1, 8]"
      ]
     },
     "execution_count": 30,
     "metadata": {},
     "output_type": "execute_result"
    }
   ],
   "source": [
    "#Find Maximum element in List using Reduce Function\n",
    "L1=[15,25,45,1,8]\n",
    "L1"
   ]
  },
  {
   "cell_type": "code",
   "execution_count": 32,
   "id": "af6d8dd8",
   "metadata": {},
   "outputs": [
    {
     "data": {
      "text/plain": [
       "45"
      ]
     },
     "execution_count": 32,
     "metadata": {},
     "output_type": "execute_result"
    }
   ],
   "source": [
    "ft.reduce(lambda x,y:x if x>y else y,L1)"
   ]
  },
  {
   "cell_type": "code",
   "execution_count": 33,
   "id": "eee5e81d",
   "metadata": {},
   "outputs": [
    {
     "data": {
      "text/plain": [
       "1"
      ]
     },
     "execution_count": 33,
     "metadata": {},
     "output_type": "execute_result"
    }
   ],
   "source": [
    "#Find Minimum element in List using Reduce Function\n",
    "ft.reduce(lambda x,y:x if x<y else y,L1)"
   ]
  },
  {
   "cell_type": "markdown",
   "id": "0733cab6",
   "metadata": {},
   "source": [
    " [GitHub](https://github.com/Gouravlohar)"
   ]
  }
 ],
 "metadata": {
  "kernelspec": {
   "display_name": "Python 3 (ipykernel)",
   "language": "python",
   "name": "python3"
  },
  "language_info": {
   "codemirror_mode": {
    "name": "ipython",
    "version": 3
   },
   "file_extension": ".py",
   "mimetype": "text/x-python",
   "name": "python",
   "nbconvert_exporter": "python",
   "pygments_lexer": "ipython3",
   "version": "3.11.3"
  }
 },
 "nbformat": 4,
 "nbformat_minor": 5
}
